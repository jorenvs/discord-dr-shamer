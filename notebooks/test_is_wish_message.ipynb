{
  "cells": [
    {
      "cell_type": "raw",
      "metadata": {
        "vscode": {
          "languageId": "raw"
        }
      },
      "source": [
        "# Testing `is_wish_message` Function\n",
        "\n",
        "Simple tests for the wish message detection.\n"
      ]
    },
    {
      "cell_type": "code",
      "execution_count": 2,
      "metadata": {},
      "outputs": [
        {
          "name": "stdout",
          "output_type": "stream",
          "text": [
            "✅ Ready to test!\n"
          ]
        }
      ],
      "source": [
        "# Setup\n",
        "import sys\n",
        "import os\n",
        "sys.path.append(os.path.join(os.getcwd(), '..'))\n",
        "\n",
        "# Import as package\n",
        "from src.utils import is_wish_message, WrongTimeException\n",
        "from src import config\n",
        "\n",
        "# Set config for testing\n",
        "config.config.WISH_TIME = \"11:11\"\n",
        "\n",
        "print(\"✅ Ready to test!\")\n"
      ]
    },
    {
      "cell_type": "code",
      "execution_count": 3,
      "metadata": {},
      "outputs": [
        {
          "name": "stdout",
          "output_type": "stream",
          "text": [
            "Valid wish messages:\n",
            "✅ 'make a wish' → True\n",
            "✅ 'make a wish 🌠' → True\n",
            "✅ 'wish 🌠' → True\n",
            "✅ '11:11 make a wish' → True\n",
            "\n",
            "Invalid messages:\n",
            "❌ 'I wish I could' → False (should be False)\n",
            "❌ 'wish you well' → False (should be False)\n",
            "❌ 'hello world' → False (should be False)\n",
            "\n",
            "Wrong time exceptions:\n",
            "⚠️  '12:34 make a wish' → WrongTimeException(12:34)\n",
            "⚠️  '9:30 wish 🌠' → WrongTimeException(9:30)\n",
            "\n",
            "✅ All tests complete!\n"
          ]
        }
      ],
      "source": [
        "# Test all scenarios\n",
        "def test_message(msg, expected_type=\"valid\"):\n",
        "    \"\"\"Test a message and print result\"\"\"\n",
        "    try:\n",
        "        result = is_wish_message(msg)\n",
        "        if expected_type == \"valid\":\n",
        "            print(f\"✅ '{msg}' → {result}\")\n",
        "        elif expected_type == \"invalid\":\n",
        "            print(f\"❌ '{msg}' → {result} (should be False)\")\n",
        "    except WrongTimeException as e:\n",
        "        if expected_type == \"wrong_time\":\n",
        "            print(f\"⚠️  '{msg}' → WrongTimeException({e.used_time})\")\n",
        "        else:\n",
        "            print(f\"❌ '{msg}' → Unexpected exception: {e}\")\n",
        "\n",
        "print(\"Basic valid wish messages:\")\n",
        "test_message(\"make a wish\", \"valid\")\n",
        "test_message(\"make a wish 🌠\", \"valid\") \n",
        "test_message(\"wish 🌠\", \"valid\")\n",
        "test_message(\"11:11 make a wish\", \"valid\")\n",
        "\n",
        "print(\"\\nReal-world examples with punctuation:\")\n",
        "test_message(\"11:11 Make a wish! 🌠\", \"valid\")\n",
        "test_message(\"11:11 make a wish🌠 !\", \"valid\")\n",
        "test_message(\"11:11 make a wish!!!\", \"valid\")\n",
        "test_message(\"Make a wish everyone! 🌠\", \"valid\")\n",
        "test_message(\"Quick! Make a wish 🌠\", \"valid\")\n",
        "test_message(\"🌠 wish! 🌠\", \"valid\")\n",
        "test_message(\"MAKE A WISH 🌠!!!\", \"valid\")\n",
        "test_message(\"make a wish... 🌠\", \"valid\")\n",
        "\n",
        "print(\"\\nWith extra words and formatting:\")\n",
        "test_message(\"Hey everyone! 11:11 make a wish! 🌠\", \"valid\")\n",
        "test_message(\"Hurry up and make a wish 🌠\", \"valid\")\n",
        "test_message(\"Time to make a wish! 🌠✨\", \"valid\")\n",
        "test_message(\"11:11 everyone make a wish NOW! 🌠\", \"valid\")\n",
        "\n",
        "print(\"\\nInvalid messages:\")\n",
        "test_message(\"I wish I could\", \"invalid\")\n",
        "test_message(\"wish you well\", \"invalid\")\n",
        "test_message(\"hello world\", \"invalid\")\n",
        "test_message(\"wishing you luck\", \"invalid\")\n",
        "test_message(\"I tried to make a wish\", \"invalid\")\n",
        "\n",
        "print(\"\\nWrong time exceptions:\")\n",
        "test_message(\"12:34 make a wish\", \"wrong_time\")\n",
        "test_message(\"9:30 wish 🌠\", \"wrong_time\")\n",
        "test_message(\"12:34 Make a wish! 🌠\", \"wrong_time\")\n",
        "test_message(\"15:45 make a wish🌠 !\", \"wrong_time\")\n",
        "\n",
        "print(\"\\n✅ All tests complete!\")\n"
      ]
    },
    {
      "cell_type": "code",
      "execution_count": null,
      "metadata": {},
      "outputs": [],
      "source": []
    },
    {
      "cell_type": "code",
      "execution_count": null,
      "metadata": {},
      "outputs": [],
      "source": []
    },
    {
      "cell_type": "code",
      "execution_count": null,
      "metadata": {},
      "outputs": [],
      "source": []
    },
    {
      "cell_type": "code",
      "execution_count": null,
      "metadata": {},
      "outputs": [],
      "source": []
    }
  ],
  "metadata": {
    "kernelspec": {
      "display_name": ".venv",
      "language": "python",
      "name": "python3"
    },
    "language_info": {
      "codemirror_mode": {
        "name": "ipython",
        "version": 3
      },
      "file_extension": ".py",
      "mimetype": "text/x-python",
      "name": "python",
      "nbconvert_exporter": "python",
      "pygments_lexer": "ipython3",
      "version": "3.10.16"
    }
  },
  "nbformat": 4,
  "nbformat_minor": 2
}
